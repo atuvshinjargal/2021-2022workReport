{
 "cells": [
  {
   "cell_type": "code",
   "execution_count": 41,
   "id": "ebd01cb4",
   "metadata": {},
   "outputs": [],
   "source": [
    "import numpy as np"
   ]
  },
  {
   "cell_type": "code",
   "execution_count": 42,
   "id": "f13572db",
   "metadata": {},
   "outputs": [],
   "source": [
    "#states \n",
    "location_to_state = {\n",
    "    'L1' : 0,\n",
    "    'L2' : 1,\n",
    "    'L3' : 2,\n",
    "    'L4' : 3,\n",
    "    'L5' : 4,\n",
    "    'L6' : 5,\n",
    "    'L7' : 6,\n",
    "    'L8' : 7,\n",
    "    'L9' : 8\n",
    "}"
   ]
  },
  {
   "cell_type": "code",
   "execution_count": 43,
   "id": "9d5d29b7",
   "metadata": {},
   "outputs": [],
   "source": [
    "#actions\n",
    "actions = [0,1,2,3,4,5,6,7,8]"
   ]
  },
  {
   "cell_type": "code",
   "execution_count": 44,
   "id": "ab8142ef",
   "metadata": {},
   "outputs": [],
   "source": [
    "#reward\n",
    "rewards = np.array([[0,1,0,0,0,0,0,0,0],\n",
    "                  [1,0,1,0,1,0,0,1,0],\n",
    "                  [0,1,0,0,0,1,0,0,0],\n",
    "                  [0,0,0,0,0,0,1,0,0],\n",
    "                  [0,1,0,0,0,0,0,1,0],\n",
    "                  [0,0,1,0,0,0,0,0,0],\n",
    "                  [0,0,0,1,0,0,0,1,0],\n",
    "                  [0,0,0,0,1,0,1,0,1],\n",
    "                  [0,0,0,0,0,0,0,1,0]])"
   ]
  },
  {
   "cell_type": "code",
   "execution_count": 45,
   "id": "3b17ac3d",
   "metadata": {},
   "outputs": [],
   "source": [
    "state_to_location = dict((state,location) for location,state in location_to_state.items())"
   ]
  },
  {
   "cell_type": "code",
   "execution_count": 46,
   "id": "c01e0c0c",
   "metadata": {},
   "outputs": [
    {
     "name": "stdout",
     "output_type": "stream",
     "text": [
      "{0: 'L1', 1: 'L2', 2: 'L3', 3: 'L4', 4: 'L5', 5: 'L6', 6: 'L7', 7: 'L8', 8: 'L9'}\n"
     ]
    }
   ],
   "source": [
    "print(state_to_location)"
   ]
  },
  {
   "cell_type": "code",
   "execution_count": 47,
   "id": "70b61360",
   "metadata": {},
   "outputs": [],
   "source": [
    "gamma = 0.75 #Discount factor\n",
    "alpha = 0.9 #learning rate"
   ]
  },
  {
   "cell_type": "code",
   "execution_count": 48,
   "id": "3255091a",
   "metadata": {},
   "outputs": [],
   "source": [
    "class QAgent():\n",
    "    def __init__(self, alpha, gamma, location_to_state, actions, rewards, state_to_location):\n",
    "        \n",
    "        self.gamma = gamma\n",
    "        self.alpha = alpha\n",
    "        \n",
    "        self.location_to_state = location_to_state\n",
    "        self.actions = actions\n",
    "        self.rewards = rewards\n",
    "        self.state_to_location = state_to_location\n",
    "        \n",
    "        M = len(location_to_state)\n",
    "        self.Q = np.zeros((M,M), dtype = None, order = 'C')\n",
    "        \n",
    "    def training(self, start_location, end_location, iterations):\n",
    "        rewards_new = np.copy(self.rewards)\n",
    "        \n",
    "        ending_state = self.location_to_state[end_location]\n",
    "        rewards_new[ending_state, ending_state] = 999\n",
    "        \n",
    "        for i in range(iterations):\n",
    "            current_state = np.random.randint(0,9)\n",
    "            playable_actions = []\n",
    "            \n",
    "            for j in range(9):\n",
    "                if rewards_new[current_state,j] > 0:\n",
    "                    playable_actions.append(j)\n",
    "                    \n",
    "            next_state = np.random.choice(playable_actions)\n",
    "            \n",
    "            TD = rewards_new[current_state,next_state] + self.gamma * self.Q[next_state, np.argmax(self.Q[next_state,])] - self.Q[current_state,next_state]\n",
    "            \n",
    "            self.Q[current_state,next_state] += self.alpha*TD\n",
    "            \n",
    "        route = [start_location]\n",
    "        next_location = start_location\n",
    "        \n",
    "        self.get_optimal_route(start_location, end_location, next_location, route, self.Q)\n",
    "        \n",
    "    def get_optimal_route(self, start_location, end_location, next_location, route, Q):\n",
    "            while(next_location != end_location):\n",
    "                starting_state = self.location_to_state[start_location]\n",
    "                next_state = np.argmax(Q[starting_state,])\n",
    "                next_location = self.state_to_location[next_state]\n",
    "                route.append(next_location)\n",
    "                start_location = next_location\n",
    "                \n",
    "            print(route)\n",
    "            print(Q)                "
   ]
  },
  {
   "cell_type": "code",
   "execution_count": 49,
   "id": "1b642bc9",
   "metadata": {},
   "outputs": [
    {
     "name": "stdout",
     "output_type": "stream",
     "text": [
      "['L9', 'L8', 'L5', 'L2', 'L1']\n"
     ]
    }
   ],
   "source": [
    "qagent = QAgent(alpha, gamma, location_to_state, actions, rewards, state_to_location)\n",
    "qagent.training('L9','L1',1000)"
   ]
  },
  {
   "cell_type": "code",
   "execution_count": null,
   "id": "b86c485f",
   "metadata": {},
   "outputs": [],
   "source": []
  },
  {
   "cell_type": "code",
   "execution_count": null,
   "id": "848973d9",
   "metadata": {},
   "outputs": [],
   "source": []
  }
 ],
 "metadata": {
  "kernelspec": {
   "display_name": "Python 3",
   "language": "python",
   "name": "python3"
  },
  "language_info": {
   "codemirror_mode": {
    "name": "ipython",
    "version": 3
   },
   "file_extension": ".py",
   "mimetype": "text/x-python",
   "name": "python",
   "nbconvert_exporter": "python",
   "pygments_lexer": "ipython3",
   "version": "3.8.8"
  }
 },
 "nbformat": 4,
 "nbformat_minor": 5
}
