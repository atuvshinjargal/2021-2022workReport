{
 "cells": [
  {
   "cell_type": "code",
   "execution_count": null,
   "id": "fa49486b",
   "metadata": {},
   "outputs": [],
   "source": [
    "import gym\n",
    "from keras.models import Model\n",
    "from keras.callbacks import TensorBoard\n",
    "from keras.layers import Input, Dense, Activation, Reshape\n",
    "from keras.optimizers import Adam\n",
    "from rl.memory import SequentialMemory\n",
    "from rl.policy import LinearAnnealedPolicy, EpsGreedyQPolicy\n",
    "from rl.agents.dqn import DQNAgent\n",
    "env = gym.make('CartPole-v1')\n",
    "env.max_episode_steps = 500\n",
    "num_actions = env.action_space.n\n",
    "# Creating out simple NN model here \n",
    "observation = Input(shape=(1, ) + env.observation_space.shape)\n",
    "x = Dense(16, activation='relu')(observation)\n",
    "x = Dense(16, activation='relu')(x)\n",
    "x = Dense(16, activation='relu')(x)\n",
    "output = Dense(num_actions, activation='linear')(x) \n",
    "output = Reshape((num_actions, ))(output)\n",
    "model = Model(inputs=observation, outputs=output)\n",
    "print(model.summary())"
   ]
  }
 ],
 "metadata": {
  "kernelspec": {
   "display_name": "Python 3.9.2 64-bit ('base': conda)",
   "language": "python",
   "name": "python392jvsc74a57bd010b0e46df94e83e419b5b8ef712461e9600799e203e6299646f313118250bc61"
  },
  "language_info": {
   "codemirror_mode": {
    "name": "ipython",
    "version": 3
   },
   "file_extension": ".py",
   "mimetype": "text/x-python",
   "name": "python",
   "nbconvert_exporter": "python",
   "pygments_lexer": "ipython3",
   "version": "3.9.2"
  }
 },
 "nbformat": 4,
 "nbformat_minor": 5
}
